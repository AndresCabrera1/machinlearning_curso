{
 "cells": [
  {
   "attachments": {},
   "cell_type": "markdown",
   "metadata": {},
   "source": [
    "Ejemplo 2: Ahora suponga que desea calcular la probabilidad de jugar futbol cuando el clima está nublado y la temperatura es templada.\n",
    "\n",
    "Características (entradas del modelo): clima, temperatura\n",
    "Variable objetivo/ clase: jugar(0-No , 1-si)"
   ]
  },
  {
   "cell_type": "code",
   "execution_count": 22,
   "metadata": {},
   "outputs": [
    {
     "data": {
      "text/html": [
       "<div>\n",
       "<style scoped>\n",
       "    .dataframe tbody tr th:only-of-type {\n",
       "        vertical-align: middle;\n",
       "    }\n",
       "\n",
       "    .dataframe tbody tr th {\n",
       "        vertical-align: top;\n",
       "    }\n",
       "\n",
       "    .dataframe thead th {\n",
       "        text-align: right;\n",
       "    }\n",
       "</style>\n",
       "<table border=\"1\" class=\"dataframe\">\n",
       "  <thead>\n",
       "    <tr style=\"text-align: right;\">\n",
       "      <th></th>\n",
       "      <th>clima</th>\n",
       "      <th>temperatura</th>\n",
       "      <th>jugar</th>\n",
       "    </tr>\n",
       "  </thead>\n",
       "  <tbody>\n",
       "    <tr>\n",
       "      <th>0</th>\n",
       "      <td>soleado</td>\n",
       "      <td>caliente</td>\n",
       "      <td>no</td>\n",
       "    </tr>\n",
       "    <tr>\n",
       "      <th>1</th>\n",
       "      <td>soleado</td>\n",
       "      <td>caliente</td>\n",
       "      <td>si</td>\n",
       "    </tr>\n",
       "    <tr>\n",
       "      <th>2</th>\n",
       "      <td>nublado</td>\n",
       "      <td>caliente</td>\n",
       "      <td>si</td>\n",
       "    </tr>\n",
       "    <tr>\n",
       "      <th>3</th>\n",
       "      <td>lluvioso</td>\n",
       "      <td>templado</td>\n",
       "      <td>si</td>\n",
       "    </tr>\n",
       "    <tr>\n",
       "      <th>4</th>\n",
       "      <td>luvioso</td>\n",
       "      <td>frio</td>\n",
       "      <td>no</td>\n",
       "    </tr>\n",
       "  </tbody>\n",
       "</table>\n",
       "</div>"
      ],
      "text/plain": [
       "      clima temperatura jugar\n",
       "0   soleado    caliente    no\n",
       "1   soleado    caliente    si\n",
       "2   nublado    caliente    si\n",
       "3  lluvioso    templado    si\n",
       "4   luvioso        frio    no"
      ]
     },
     "execution_count": 22,
     "metadata": {},
     "output_type": "execute_result"
    }
   ],
   "source": [
    "#libreria para calculos matematicos\n",
    "import numpy as np\n",
    "#libreria para manejo de datos\n",
    "import pandas as pd\n",
    "#libreria para manejo de graficos \n",
    "import matplotlib.pyplot as plt\n",
    "#libreria para el proprocesamiento de los datos\n",
    "from sklearn import preprocessing\n",
    "#libreria para naive bayes\n",
    "from sklearn.naive_bayes import GaussianNB\n",
    "\n",
    "#libreria para separar los datos \n",
    "from sklearn.model_selection import train_test_split\n",
    "#libreria para el accuracy\n",
    "from sklearn.metrics import accuracy_score\n",
    "\n",
    "#leer arachivo plano y cargarlos en dataframe\n",
    "data = pd.read_csv('./data_set/exercise1.csv',sep=';')\n",
    "data.head()"
   ]
  },
  {
   "cell_type": "code",
   "execution_count": 23,
   "metadata": {},
   "outputs": [
    {
     "data": {
      "text/html": [
       "<div>\n",
       "<style scoped>\n",
       "    .dataframe tbody tr th:only-of-type {\n",
       "        vertical-align: middle;\n",
       "    }\n",
       "\n",
       "    .dataframe tbody tr th {\n",
       "        vertical-align: top;\n",
       "    }\n",
       "\n",
       "    .dataframe thead th {\n",
       "        text-align: right;\n",
       "    }\n",
       "</style>\n",
       "<table border=\"1\" class=\"dataframe\">\n",
       "  <thead>\n",
       "    <tr style=\"text-align: right;\">\n",
       "      <th></th>\n",
       "      <th>clima</th>\n",
       "      <th>temperatura</th>\n",
       "      <th>jugar</th>\n",
       "      <th>clima_le</th>\n",
       "      <th>temperatura_le</th>\n",
       "      <th>jugar_le</th>\n",
       "    </tr>\n",
       "  </thead>\n",
       "  <tbody>\n",
       "    <tr>\n",
       "      <th>0</th>\n",
       "      <td>soleado</td>\n",
       "      <td>caliente</td>\n",
       "      <td>no</td>\n",
       "      <td>3</td>\n",
       "      <td>0</td>\n",
       "      <td>0</td>\n",
       "    </tr>\n",
       "    <tr>\n",
       "      <th>1</th>\n",
       "      <td>soleado</td>\n",
       "      <td>caliente</td>\n",
       "      <td>si</td>\n",
       "      <td>3</td>\n",
       "      <td>0</td>\n",
       "      <td>1</td>\n",
       "    </tr>\n",
       "    <tr>\n",
       "      <th>2</th>\n",
       "      <td>nublado</td>\n",
       "      <td>caliente</td>\n",
       "      <td>si</td>\n",
       "      <td>2</td>\n",
       "      <td>0</td>\n",
       "      <td>1</td>\n",
       "    </tr>\n",
       "    <tr>\n",
       "      <th>3</th>\n",
       "      <td>lluvioso</td>\n",
       "      <td>templado</td>\n",
       "      <td>si</td>\n",
       "      <td>0</td>\n",
       "      <td>2</td>\n",
       "      <td>1</td>\n",
       "    </tr>\n",
       "    <tr>\n",
       "      <th>4</th>\n",
       "      <td>luvioso</td>\n",
       "      <td>frio</td>\n",
       "      <td>no</td>\n",
       "      <td>1</td>\n",
       "      <td>1</td>\n",
       "      <td>0</td>\n",
       "    </tr>\n",
       "  </tbody>\n",
       "</table>\n",
       "</div>"
      ],
      "text/plain": [
       "      clima temperatura jugar  clima_le  temperatura_le  jugar_le\n",
       "0   soleado    caliente    no         3               0         0\n",
       "1   soleado    caliente    si         3               0         1\n",
       "2   nublado    caliente    si         2               0         1\n",
       "3  lluvioso    templado    si         0               2         1\n",
       "4   luvioso        frio    no         1               1         0"
      ]
     },
     "execution_count": 23,
     "metadata": {},
     "output_type": "execute_result"
    }
   ],
   "source": [
    "#preprocesamiento en este caso pasar de cadena a valores discretos (0,1,2)\n",
    "\n",
    "le = preprocessing.LabelEncoder()\n",
    "data['clima_le'] = le.fit_transform(data['clima'])\n",
    "data['temperatura_le'] = le.fit_transform(data['temperatura'])\n",
    "data['jugar_le'] = le.fit_transform(data['jugar'])\n",
    "data.head()\n"
   ]
  },
  {
   "cell_type": "code",
   "execution_count": 24,
   "metadata": {},
   "outputs": [
    {
     "data": {
      "text/html": [
       "<div>\n",
       "<style scoped>\n",
       "    .dataframe tbody tr th:only-of-type {\n",
       "        vertical-align: middle;\n",
       "    }\n",
       "\n",
       "    .dataframe tbody tr th {\n",
       "        vertical-align: top;\n",
       "    }\n",
       "\n",
       "    .dataframe thead th {\n",
       "        text-align: right;\n",
       "    }\n",
       "</style>\n",
       "<table border=\"1\" class=\"dataframe\">\n",
       "  <thead>\n",
       "    <tr style=\"text-align: right;\">\n",
       "      <th></th>\n",
       "      <th>clima_le</th>\n",
       "      <th>temperatura_le</th>\n",
       "      <th>jugar_le</th>\n",
       "    </tr>\n",
       "  </thead>\n",
       "  <tbody>\n",
       "    <tr>\n",
       "      <th>count</th>\n",
       "      <td>14.000000</td>\n",
       "      <td>14.000000</td>\n",
       "      <td>14.000000</td>\n",
       "    </tr>\n",
       "    <tr>\n",
       "      <th>mean</th>\n",
       "      <td>1.714286</td>\n",
       "      <td>1.142857</td>\n",
       "      <td>0.642857</td>\n",
       "    </tr>\n",
       "    <tr>\n",
       "      <th>std</th>\n",
       "      <td>1.266647</td>\n",
       "      <td>0.864438</td>\n",
       "      <td>0.497245</td>\n",
       "    </tr>\n",
       "    <tr>\n",
       "      <th>min</th>\n",
       "      <td>0.000000</td>\n",
       "      <td>0.000000</td>\n",
       "      <td>0.000000</td>\n",
       "    </tr>\n",
       "    <tr>\n",
       "      <th>25%</th>\n",
       "      <td>0.250000</td>\n",
       "      <td>0.250000</td>\n",
       "      <td>0.000000</td>\n",
       "    </tr>\n",
       "    <tr>\n",
       "      <th>50%</th>\n",
       "      <td>2.000000</td>\n",
       "      <td>1.000000</td>\n",
       "      <td>1.000000</td>\n",
       "    </tr>\n",
       "    <tr>\n",
       "      <th>75%</th>\n",
       "      <td>3.000000</td>\n",
       "      <td>2.000000</td>\n",
       "      <td>1.000000</td>\n",
       "    </tr>\n",
       "    <tr>\n",
       "      <th>max</th>\n",
       "      <td>3.000000</td>\n",
       "      <td>2.000000</td>\n",
       "      <td>1.000000</td>\n",
       "    </tr>\n",
       "  </tbody>\n",
       "</table>\n",
       "</div>"
      ],
      "text/plain": [
       "        clima_le  temperatura_le   jugar_le\n",
       "count  14.000000       14.000000  14.000000\n",
       "mean    1.714286        1.142857   0.642857\n",
       "std     1.266647        0.864438   0.497245\n",
       "min     0.000000        0.000000   0.000000\n",
       "25%     0.250000        0.250000   0.000000\n",
       "50%     2.000000        1.000000   1.000000\n",
       "75%     3.000000        2.000000   1.000000\n",
       "max     3.000000        2.000000   1.000000"
      ]
     },
     "execution_count": 24,
     "metadata": {},
     "output_type": "execute_result"
    }
   ],
   "source": [
    "#vemos las estadisticas del data frame\n",
    "data.describe()"
   ]
  },
  {
   "cell_type": "code",
   "execution_count": 25,
   "metadata": {},
   "outputs": [
    {
     "data": {
      "image/png": "[encoded data removed]",
      "text/plain": [
       "<Figure size 640x480 with 1 Axes>"
      ]
     },
     "metadata": {},
     "output_type": "display_data"
    },
    {
     "data": {
      "image/png": "[encoded data removed]",
      "text/plain": [
       "<Figure size 640x480 with 1 Axes>"
      ]
     },
     "metadata": {},
     "output_type": "display_data"
    },
    {
     "data": {
      "image/png": "[encoded data removed]",
      "text/plain": [
       "<Figure size 640x480 with 1 Axes>"
      ]
     },
     "metadata": {},
     "output_type": "display_data"
    }
   ],
   "source": [
    "#podemos graficar \n",
    "\n",
    "plt.hist(data['clima_le'], color='red')\n",
    "plt.xlabel('Clima')\n",
    "plt.ylabel('datos')\n",
    "plt.show()\n",
    "\n",
    "plt.hist(data['temperatura_le'], color='blue')\n",
    "plt.xlabel('temperatura')\n",
    "plt.ylabel('datos')\n",
    "plt.show()\n",
    "\n",
    "plt.hist(data['jugar_le'], color='black')\n",
    "plt.xlabel('jugar')\n",
    "plt.ylabel('datos')\n",
    "plt.show()"
   ]
  },
  {
   "cell_type": "code",
   "execution_count": 26,
   "metadata": {},
   "outputs": [
    {
     "name": "stdout",
     "output_type": "stream",
     "text": [
      "[1]\n"
     ]
    }
   ],
   "source": [
    "#creamos el modelo de prediccion Naive Bayes\n",
    "\n",
    "#definir las caracteristicas \n",
    "features = ['clima_le','temperatura_le']\n",
    "x = data[features].values\n",
    "# definir la variable objetivo / clase\n",
    "y = data['jugar_le']\n",
    "\n",
    "# se entrena el modelo\n",
    "nb = GaussianNB()\n",
    "nb.fit(x,y)\n",
    "\n",
    "# se hace la prediccion\n",
    "prediction = nb.predict([[1,2]])\n",
    "\n",
    "print(prediction)\n"
   ]
  },
  {
   "cell_type": "code",
   "execution_count": 27,
   "metadata": {},
   "outputs": [],
   "source": [
    "## separacion de los datos 70 - 30 \n",
    "\n",
    "#definir las caracteristicas \n",
    "features = ['clima_le','temperatura_le']\n",
    "x = data[features].values\n",
    "# definir la variable objetivo / clase\n",
    "y = data['jugar_le']\n",
    "\n",
    "#separo datos\n",
    "x_train,x_test, y_train, y_test = train_test_split(x,y,train_size=0.7)\n"
   ]
  },
  {
   "cell_type": "code",
   "execution_count": 28,
   "metadata": {},
   "outputs": [
    {
     "name": "stdout",
     "output_type": "stream",
     "text": [
      "Accuracy =  0.2\n"
     ]
    }
   ],
   "source": [
    "### se realiza la prediccion y se imprime el valor de la metrica accuracy\n",
    "\n",
    "#se crea el modelo\n",
    "nb =  GaussianNB()\n",
    "# se entrena el modelo\n",
    "nb.fit(x_train,y_train)\n",
    "# se genera la prediccion\n",
    "prediction = nb.predict(x_test)\n",
    "# se imprime el valor de metrica accuracy \n",
    "print('Accuracy = ', accuracy_score(y_test,prediction))"
   ]
  }
 ],
 "metadata": {
  "kernelspec": {
   "display_name": "Python 3",
   "language": "python",
   "name": "python3"
  },
  "language_info": {
   "codemirror_mode": {
    "name": "ipython",
    "version": 3
   },
   "file_extension": ".py",
   "mimetype": "text/x-python",
   "name": "python",
   "nbconvert_exporter": "python",
   "pygments_lexer": "ipython3",
   "version": "3.11.3"
  },
  "orig_nbformat": 4
 },
 "nbformat": 4,
 "nbformat_minor": 2
}
