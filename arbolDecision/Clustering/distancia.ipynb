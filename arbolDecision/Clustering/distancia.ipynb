{
 "cells": [
  {
   "attachments": {},
   "cell_type": "markdown",
   "metadata": {},
   "source": [
    "### Ejercicios Cálculo Distancias: Euclídiana y Manhattan\n",
    "\n",
    "\n",
    "Librerías a utilizar"
   ]
  },
  {
   "cell_type": "code",
   "execution_count": 28,
   "metadata": {},
   "outputs": [],
   "source": [
    "# Librería para procesos matemáticos\n",
    "import numpy as np\n",
    "import pandas as pd\n",
    "from math import dist\n",
    "from sklearn.metrics.pairwise import euclidean_distances\n",
    "from scipy.spatial.distance import cityblock"
   ]
  },
  {
   "cell_type": "code",
   "execution_count": 17,
   "metadata": {},
   "outputs": [
    {
     "name": "stdout",
     "output_type": "stream",
     "text": [
      "[[-23.99, 24.25]]\n",
      "[[32.51, 91.82]]\n"
     ]
    }
   ],
   "source": [
    "#Euclídiana\n",
    "#Se cargan los datos\n",
    "\n",
    "# Se cargan los valores en dos listas, una para cliente1 y otra para cliente2\n",
    "##### INSERTE SU CÓDIGO AQUÍ #####\n",
    "\n",
    "\n",
    "##### FIN CÓDIGO INSERTADO #####\n",
    "\n",
    "cliente1 = [[-23.99, 24.25]]\n",
    "cliente2 = [[32.51, 91.82]]\n",
    "\n",
    "print(cliente1)\n",
    "print(cliente2)"
   ]
  },
  {
   "attachments": {},
   "cell_type": "markdown",
   "metadata": {},
   "source": [
    "### Función para el cálculo de la distancia Euclídiana"
   ]
  },
  {
   "cell_type": "code",
   "execution_count": 19,
   "metadata": {},
   "outputs": [
    {
     "name": "stdout",
     "output_type": "stream",
     "text": [
      "Distancia Euclídiana =  [[88.07925352]]\n"
     ]
    }
   ],
   "source": [
    "# Cálculo de distancia Euclídiana\n",
    "##### INSERTE SU CÓDIGO AQUÍ #####\n",
    "\n",
    "\n",
    "##resultado = dist(cliente1,cliente2)\n",
    "resultado = euclidean_distances(cliente1,cliente2)\n",
    "##### FIN CÓDIGO INSERTADO #####\n",
    "\n",
    "print(\"Distancia Euclídiana = \", resultado)"
   ]
  },
  {
   "attachments": {},
   "cell_type": "markdown",
   "metadata": {},
   "source": [
    "### Manhattan"
   ]
  },
  {
   "cell_type": "code",
   "execution_count": 25,
   "metadata": {},
   "outputs": [
    {
     "name": "stdout",
     "output_type": "stream",
     "text": [
      "[-1, 1, 3, 2]\n",
      "[5, 6, 5, 3]\n",
      "4\n"
     ]
    }
   ],
   "source": [
    "# Se cargan los registros en listas\n",
    "##### INSERTE SU CÓDIGO AQUÍ #####\n",
    "\n",
    "\n",
    "##### FIN CÓDIGO INSERTADO #####\n",
    "\n",
    "x =[-1, 1, 3, 2]\n",
    "y=[5, 6, 5, 3]\n",
    "n=4\n",
    "\n",
    "print(x)\n",
    "print(y)\n",
    "print(n)"
   ]
  },
  {
   "attachments": {},
   "cell_type": "markdown",
   "metadata": {},
   "source": [
    "### Función para distancia Manhattan"
   ]
  },
  {
   "cell_type": "code",
   "execution_count": 36,
   "metadata": {},
   "outputs": [
    {
     "name": "stdout",
     "output_type": "stream",
     "text": [
      "Distancia Manhattan =  22\n"
     ]
    }
   ],
   "source": [
    "# Cálculo de la distancia Manhattan\n",
    "##### INSERTE SU CÓDIGO AQUÍ #####\n",
    "def distancia_manhattan(x, y, n):\n",
    "    # Acumulador\n",
    "    sum = 0\n",
    "\n",
    "    # Ciclo para n\n",
    "    for i in range(n):\n",
    "        # Ciclo para procesar los elementos de x y y\n",
    "        for j in range(i+1, n):\n",
    "            sum += ( abs(x[i] - x[j]) ) + ( abs(y[i] - y[j]))\n",
    "    \n",
    "    return sum\n",
    "\n",
    "resultado = distancia_manhattan(x, y, n)\n",
    "\n",
    "##### FIN CÓDIGO INSERTADO #####\n",
    "\n",
    "print(\"Distancia Manhattan = \", resultado)"
   ]
  }
 ],
 "metadata": {
  "kernelspec": {
   "display_name": "Python 3",
   "language": "python",
   "name": "python3"
  },
  "language_info": {
   "codemirror_mode": {
    "name": "ipython",
    "version": 3
   },
   "file_extension": ".py",
   "mimetype": "text/x-python",
   "name": "python",
   "nbconvert_exporter": "python",
   "pygments_lexer": "ipython3",
   "version": "3.11.3"
  },
  "orig_nbformat": 4
 },
 "nbformat": 4,
 "nbformat_minor": 2
}
